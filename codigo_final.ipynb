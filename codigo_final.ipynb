{
  "nbformat": 4,
  "nbformat_minor": 0,
  "metadata": {
    "colab": {
      "name": "Copy of correcao_prova.ipynb",
      "provenance": [],
      "collapsed_sections": []
    },
    "kernelspec": {
      "name": "python3",
      "display_name": "Python 3"
    }
  },
  "cells": [
    {
      "cell_type": "code",
      "metadata": {
        "id": "ieV2s9Fb6Jj8",
        "colab_type": "code",
        "colab": {
          "base_uri": "https://localhost:8080/",
          "height": 141
        },
        "outputId": "feaa6403-532f-43e4-fb1c-5fac247258fc"
      },
      "source": [
        "from google.colab import drive\n",
        "drive.mount('/gdrive')\n",
        "%cd /gdrive"
      ],
      "execution_count": 1,
      "outputs": [
        {
          "output_type": "stream",
          "text": [
            "Go to this URL in a browser: https://accounts.google.com/o/oauth2/auth?client_id=947318989803-6bn6qk8qdgf4n4g3pfee6491hc0brc4i.apps.googleusercontent.com&redirect_uri=urn%3aietf%3awg%3aoauth%3a2.0%3aoob&response_type=code&scope=email%20https%3a%2f%2fwww.googleapis.com%2fauth%2fdocs.test%20https%3a%2f%2fwww.googleapis.com%2fauth%2fdrive%20https%3a%2f%2fwww.googleapis.com%2fauth%2fdrive.photos.readonly%20https%3a%2f%2fwww.googleapis.com%2fauth%2fpeopleapi.readonly\n",
            "\n",
            "Enter your authorization code:\n",
            "··········\n",
            "Mounted at /gdrive\n",
            "/gdrive\n"
          ],
          "name": "stdout"
        }
      ]
    },
    {
      "cell_type": "code",
      "metadata": {
        "id": "sygD2kSK5lud",
        "colab_type": "code",
        "colab": {}
      },
      "source": [
        "import cv2\n",
        "from google.colab.patches import cv2_imshow\n",
        "import math\n",
        "import numpy as np"
      ],
      "execution_count": 2,
      "outputs": []
    },
    {
      "cell_type": "code",
      "metadata": {
        "id": "ygL4dLVh6d3v",
        "colab_type": "code",
        "colab": {}
      },
      "source": [
        "QTD_QUESTAO = 21\n",
        "QTD_ALTERNATIVA = 5"
      ],
      "execution_count": 5,
      "outputs": []
    },
    {
      "cell_type": "code",
      "metadata": {
        "id": "rox_W2fiA2CH",
        "colab_type": "code",
        "colab": {}
      },
      "source": [
        "def abrir_imagem(img_caminho):\n",
        "\n",
        "    imagem = cv2.imread(img_caminho)\n",
        "\n",
        "    if imagem is None:\n",
        "        raise NameError(\"O OpenCV não conseguiu abrir a imagem, verifique o caminho.\")\n",
        "\n",
        "    return imagem"
      ],
      "execution_count": 4,
      "outputs": []
    },
    {
      "cell_type": "code",
      "metadata": {
        "id": "Nszj_mWcew2s",
        "colab_type": "code",
        "colab": {}
      },
      "source": [
        "def hough_para_cartesiano(raio, theta):\n",
        "\n",
        "    seno = math.sin(theta)\n",
        "    cosseno = math.cos(theta)\n",
        "\n",
        "    x = raio*cosseno\n",
        "    y = raio*seno\n",
        "\n",
        "    return (x,y)"
      ],
      "execution_count": 6,
      "outputs": []
    },
    {
      "cell_type": "code",
      "metadata": {
        "id": "FRROvd3cgqCh",
        "colab_type": "code",
        "colab": {}
      },
      "source": [
        "def criar_linha(ponto, theta):\n",
        "\n",
        "    seno = math.sin(theta)\n",
        "    cosseno = math.cos(theta)\n",
        "\n",
        "    x1 = int(ponto[0] + 10000*(-seno))\n",
        "    y1 = int(ponto[1] + 10000*(cosseno))\n",
        "\n",
        "    x2 = int(ponto[0] - 800*(-seno))\n",
        "    y2 = int(ponto[1] - 800*(cosseno))\n",
        "\n",
        "    return (x1,y1,x2,y2)"
      ],
      "execution_count": 7,
      "outputs": []
    },
    {
      "cell_type": "code",
      "metadata": {
        "id": "2rhUXH9viKxI",
        "colab_type": "code",
        "colab": {}
      },
      "source": [
        "def desenhar_linha(img, raio, theta):\n",
        "    ponto = hough_para_cartesiano(raio,theta)\n",
        "    x1,y1,x2,y2 = criar_linha(ponto, theta)\n",
        "    img = cv2.line(img, (x1,y1), (x2,y2), (0,255,0),3)\n",
        "\n",
        "    return img"
      ],
      "execution_count": 8,
      "outputs": []
    },
    {
      "cell_type": "code",
      "metadata": {
        "id": "DoC2GQ6Eq6vV",
        "colab_type": "code",
        "colab": {}
      },
      "source": [
        "def encontrar_interseccao(raio1, raio2):\n",
        "\n",
        "    resultante = math.sqrt((raio1**2+raio2**2))\n",
        "    theta = math.atan((raio1/raio2))\n",
        "\n",
        "    return resultante, theta"
      ],
      "execution_count": 9,
      "outputs": []
    },
    {
      "cell_type": "code",
      "metadata": {
        "id": "DkZ0yGaW5Vnp",
        "colab_type": "code",
        "colab": {}
      },
      "source": [
        "def processar_imagem(caminho_imagem):\n",
        "\n",
        "    imagem = abrir_imagem(caminho_imagem)\n",
        "    img_gray = cv2.cvtColor(imagem, cv2.COLOR_BGR2GRAY)\n",
        "\n",
        "    thres, img_binaria = cv2.threshold(img_gray, 0, 255, cv2.THRESH_BINARY+cv2.THRESH_OTSU)\n",
        "    canny = cv2.Canny(img_binaria, 100, 200)\n",
        "    kernel_rect = cv2.getStructuringElement(cv2.MORPH_RECT, (5,5))\n",
        "    operacao_dilatar = cv2.morphologyEx(canny, cv2.MORPH_DILATE, kernel_rect)\n",
        "\n",
        "    kernel_cross = cv2.getStructuringElement(cv2.MORPH_CROSS, (3,3))\n",
        "    operacao_dilatar = cv2.morphologyEx(canny, cv2.MORPH_DILATE, kernel_cross, iterations = 3)\n",
        "\n",
        "    operacao_close = cv2.morphologyEx(operacao_dilatar, cv2.MORPH_CLOSE, kernel_rect, iterations=3)\n",
        "\n",
        "    operacao_open = cv2.morphologyEx(operacao_close, cv2.MORPH_OPEN, kernel_rect, iterations = 1)\n",
        "\n",
        "    l_linhas = cv2.HoughLines(operacao_open, 1, np.pi/180, 80)\n",
        "\n",
        "    limites_horizontais = np.array([\n",
        "                                    [imagem.size, imagem.size], #MENOR (raio,theta)\n",
        "                                    [0.0,0.0]], dtype=np.float #MAIOR (raio,theta)\n",
        "                                )\n",
        "\n",
        "    limites_verticais = np.array([\n",
        "                                    [imagem.size, imagem.size], #MENOR (raio, theta)\n",
        "                                    [0.0,0.0]], dtype=np.float #MAIOR (raio,theta)\n",
        "                                )\n",
        "\n",
        "    for linha in l_linhas:\n",
        "        for raio, theta in linha:\n",
        "\n",
        "            if np.isclose(theta,0.0): # linha vertical\n",
        "                \n",
        "                if raio<limites_verticais[0][0]:\n",
        "                    limites_verticais[0][0] = raio\n",
        "                    limites_verticais[0][1] = theta\n",
        "                \n",
        "                if raio>limites_verticais[1][0]:\n",
        "                    limites_verticais[1][0] = raio\n",
        "                    limites_verticais[1][1] = theta\n",
        "\n",
        "            if np.isclose(theta,np.pi/2.0): # linha horizontal\n",
        "\n",
        "                if raio<limites_horizontais[0][0]:\n",
        "                    limites_horizontais[0][0] = raio\n",
        "                    limites_horizontais[0][1] = theta\n",
        "\n",
        "                if raio>limites_horizontais[1][0]:\n",
        "                    limites_horizontais[1][0] = raio\n",
        "                    limites_horizontais[1][1] = theta\n",
        "\n",
        "    # ponto superior esquerdo (se)\n",
        "\n",
        "    raio_se, theta_se = encontrar_interseccao(limites_horizontais[0][0], limites_verticais[0][0])\n",
        "    x_se, y_se = hough_para_cartesiano(raio_se, theta_se)\n",
        "\n",
        "    # ponto inferior direito (id)\n",
        "\n",
        "    raio_id, theta_id = encontrar_interseccao(limites_horizontais[1][0], limites_verticais[1][0])\n",
        "    x_id, y_id = hough_para_cartesiano(raio_id, theta_id)\n",
        "\n",
        "    nova_imagem = img_binaria[int(y_se):int(y_id), int(x_se):int(x_id)]\n",
        "\n",
        "    return nova_imagem"
      ],
      "execution_count": 10,
      "outputs": []
    },
    {
      "cell_type": "code",
      "metadata": {
        "id": "ozJug3xOyc1g",
        "colab_type": "code",
        "colab": {}
      },
      "source": [
        "def get_resposta(imagem, questao_numero):\n",
        "\n",
        "    map_indice = {3:'a', 2:'b', 1:'c', 0:'d'}\n",
        "    espacamento_questao = imagem.shape[0]/QTD_QUESTAO\n",
        "    espacamento_alternativa = imagem.shape[1]/QTD_ALTERNATIVA\n",
        "\n",
        "    inicio_questao = int(questao_numero*espacamento_questao)\n",
        "    fim_questao = int((questao_numero+1)*espacamento_questao)\n",
        "\n",
        "    questao = imagem[inicio_questao:fim_questao, :]\n",
        "\n",
        "    respostas = np.empty(4)\n",
        "    for alternativa in range(QTD_ALTERNATIVA-1):\n",
        "        inicio_alternativa = int(alternativa*espacamento_alternativa)\n",
        "        fim_alternativa = int((alternativa+1)*espacamento_alternativa)\n",
        "\n",
        "        respostas[alternativa] = np.mean(questao[:,inicio_alternativa:fim_alternativa])\n",
        "\n",
        "    indice = np.where(respostas == np.amin(respostas))[0][0]\n",
        "\n",
        "    return map_indice[indice]\n"
      ],
      "execution_count": 11,
      "outputs": []
    },
    {
      "cell_type": "code",
      "metadata": {
        "id": "trWlNZZJAqBH",
        "colab_type": "code",
        "colab": {}
      },
      "source": [
        "def corrige(imagem):\n",
        "    respostas = {}\n",
        "    for questao in range(1, QTD_QUESTAO):\n",
        "        respostas[questao] = get_resposta(imagem, questao)\n",
        "\n",
        "    return respostas"
      ],
      "execution_count": 12,
      "outputs": []
    },
    {
      "cell_type": "code",
      "metadata": {
        "id": "j-I6YUTxH3NX",
        "colab_type": "code",
        "colab": {}
      },
      "source": [
        "def ler_csv(caminho_csv, nome_prova):\n",
        "    conteudo = np.loadtxt(caminho_csv, dtype = str, delimiter=',')\n",
        "    indice = np.where(conteudo[:,:1] == nome_prova)[0][0]\n",
        "\n",
        "    return conteudo[indice]"
      ],
      "execution_count": 13,
      "outputs": []
    },
    {
      "cell_type": "code",
      "metadata": {
        "id": "Z1a585WvChP7",
        "colab_type": "code",
        "colab": {
          "base_uri": "https://localhost:8080/",
          "height": 380
        },
        "outputId": "270724e2-2ca7-4118-e8ed-afc0a8c46d75"
      },
      "source": [
        "caminho_absoluto = lambda nome_imagem: \"My Drive/Curso-OMR/images-test/\"+nome_imagem\n",
        "nome_imagem = \"teste5.png\"\n",
        "imagem = processar_imagem(caminho_absoluto(nome_imagem))\n",
        "\n",
        "respostas = corrige(imagem)\n",
        "verdadeira = ler_csv(caminho_absoluto('corretas.csv'), nome_imagem)\n",
        "\n",
        "print('Questao\\tLetra\\tVerdadeira')\n",
        "for questao in range(1,QTD_QUESTAO):\n",
        "    print(' {0} \\t {1}  \\t {2}'.format(questao, respostas[questao], verdadeira[questao]))"
      ],
      "execution_count": 16,
      "outputs": [
        {
          "output_type": "stream",
          "text": [
            "Questao\tLetra\tVerdadeira\n",
            " 1 \t b  \t b\n",
            " 2 \t c  \t c\n",
            " 3 \t c  \t c\n",
            " 4 \t a  \t a\n",
            " 5 \t c  \t c\n",
            " 6 \t a  \t a\n",
            " 7 \t c  \t c\n",
            " 8 \t b  \t b\n",
            " 9 \t a  \t a\n",
            " 10 \t d  \t d\n",
            " 11 \t b  \t b\n",
            " 12 \t b  \t b\n",
            " 13 \t a  \t a\n",
            " 14 \t a  \t a\n",
            " 15 \t b  \t b\n",
            " 16 \t b  \t b\n",
            " 17 \t b  \t b\n",
            " 18 \t a  \t a\n",
            " 19 \t a  \t a\n",
            " 20 \t a  \t a\n"
          ],
          "name": "stdout"
        }
      ]
    }
  ]
}