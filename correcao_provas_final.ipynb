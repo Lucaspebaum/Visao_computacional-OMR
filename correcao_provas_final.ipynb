{
  "nbformat": 4,
  "nbformat_minor": 0,
  "metadata": {
    "colab": {
      "name": "correcao-provas-final.ipynb",
      "provenance": [],
      "collapsed_sections": []
    },
    "kernelspec": {
      "name": "python3",
      "display_name": "Python 3"
    }
  },
  "cells": [
    {
      "cell_type": "code",
      "metadata": {
        "id": "6xgJV_YXg2nr",
        "colab_type": "code",
        "outputId": "13856fb1-9dd9-432c-e500-a1358fb84f7c",
        "colab": {
          "base_uri": "https://localhost:8080/",
          "height": 51
        }
      },
      "source": [
        "from google.colab import drive\n",
        "drive.mount('/gdrive')\n",
        "%cd /gdrive"
      ],
      "execution_count": 4,
      "outputs": [
        {
          "output_type": "stream",
          "text": [
            "Drive already mounted at /gdrive; to attempt to forcibly remount, call drive.mount(\"/gdrive\", force_remount=True).\n",
            "/gdrive\n"
          ],
          "name": "stdout"
        }
      ]
    },
    {
      "cell_type": "code",
      "metadata": {
        "id": "GFIxcjpGnlPC",
        "colab_type": "code",
        "colab": {}
      },
      "source": [
        "import cv2\n",
        "from google.colab.patches import cv2_imshow\n",
        "import numpy as np\n",
        "import math"
      ],
      "execution_count": 0,
      "outputs": []
    },
    {
      "cell_type": "code",
      "metadata": {
        "id": "bYfpzwF0ywK2",
        "colab_type": "code",
        "colab": {}
      },
      "source": [
        "QTD_QUESTOES = 21 # Quantidade de questões+1\n",
        "QTD_ALTERNATIVAS = 5 # Quantidade de alternativas+1"
      ],
      "execution_count": 0,
      "outputs": []
    },
    {
      "cell_type": "code",
      "metadata": {
        "id": "yv1u_4TfoNx8",
        "colab_type": "code",
        "colab": {}
      },
      "source": [
        "def abrir_imagem(img_caminho):\n",
        "    '''\n",
        "    Entrada: String com o caminho da imagem\n",
        "    Saída: Matriz da imagem\n",
        "    '''\n",
        "    imagem = cv2.imread(img_caminho)\n",
        "\n",
        "    if(imagem is None):\n",
        "        raise NameError('\\nO OpenCV não conseguiu abrir a imagem. Verifique o caminho que você passou ou se a imagem existe.\\n')\n",
        "\n",
        "    return imagem"
      ],
      "execution_count": 0,
      "outputs": []
    },
    {
      "cell_type": "code",
      "metadata": {
        "id": "kponj2Uon4wz",
        "colab_type": "code",
        "colab": {}
      },
      "source": [
        "caminho_absoluto = lambda img_nome: 'My Drive/PI_OMR/images-test/'+img_nome"
      ],
      "execution_count": 0,
      "outputs": []
    },
    {
      "cell_type": "code",
      "metadata": {
        "id": "vGSvjRmBx-rn",
        "colab_type": "code",
        "colab": {}
      },
      "source": [
        "def hough_para_cartesiano(raio, theta):\n",
        "    '''\n",
        "    Transformação do espaço de cordenadas polar para o cartesiana\n",
        "\n",
        "    Entrada: raio e o ângulo theta que o raio faz com a horizontal\n",
        "    Saída: pontos (x,y)\n",
        "    '''\n",
        "    cosseno = math.cos(theta)\n",
        "    seno = math.sin(theta)\n",
        "\n",
        "    x = cosseno*raio\n",
        "    y = seno*raio\n",
        "\n",
        "    return (x, y)\n",
        "\n",
        "def criar_linhas(pontos, theta):\n",
        "\n",
        "    '''\n",
        "    Gera linhas para dados o ponto e o raio da reta que vai de (0,0) até o ponto indicado\n",
        "\n",
        "    Entrada: Ponto e o ângulo do raio com a horizontal\n",
        "    Saída: 4 valores correspondendo a 2 pontos (x,y)\n",
        "    '''\n",
        "\n",
        "    seno = np.sin(theta)\n",
        "    cosseno = np.cos(theta)\n",
        "\n",
        "    x1 = int(pontos[0] + 10000*(-seno))\n",
        "\n",
        "    y1 = int(pontos[1] + 10000*(cosseno))\n",
        "\n",
        "    x2 = int(pontos[0] - 800*(-seno)) \n",
        "\n",
        "    y2 = int(pontos[1] - 800*(cosseno)) \n",
        "\n",
        "    return (x1, y1, x2, y2)"
      ],
      "execution_count": 0,
      "outputs": []
    },
    {
      "cell_type": "code",
      "metadata": {
        "id": "-0Ylsp6IyNZj",
        "colab_type": "code",
        "colab": {}
      },
      "source": [
        "def encontrar_intenseccao(raio1, raio2):\n",
        "    '''\n",
        "    Encontra intersecção entre duas retas\n",
        "\n",
        "    Entrada: raio da reta no plano polar\n",
        "    Saída: Raio do ponto de intersecção e o respectivo ângulo\n",
        "\n",
        "    OBS: Para esta operação é considerado que o ângulo entre os dois raios é 90º(pi/2 rad) que são as respectivas linhas horizontais e verticais\n",
        "    '''\n",
        "\n",
        "    resultante = math.sqrt((raio1**2+raio2**2))\n",
        "\n",
        "    theta = math.atan(raio1/raio2)\n",
        "\n",
        "    return (resultante,theta)"
      ],
      "execution_count": 0,
      "outputs": []
    },
    {
      "cell_type": "code",
      "metadata": {
        "id": "1g5IAPMky9sX",
        "colab_type": "code",
        "colab": {}
      },
      "source": [
        "def get_resposta(imagem, questao_numero):\n",
        "\n",
        "    '''\n",
        "    Entrada: imagem e o número da questão a ser retornada a respectiva resposta\n",
        "    Saída: anternativa marcada\n",
        "    '''\n",
        "\n",
        "    map_indice = {3:'a', 2:'b', 1:'c', 0:'d'}\n",
        "    espacamento_questoes = int(imagem.shape[0]/QTD_QUESTOES)\n",
        "    espacamento_anternativas = int(imagem.shape[1]/QTD_ALTERNATIVAS)\n",
        "\n",
        "    inicio_questao = int(espacamento_questoes*questao_numero)\n",
        "    fim_questao = int(espacamento_questoes*(questao_numero+1))\n",
        "    questao = imagem[inicio_questao:fim_questao,:]\n",
        "\n",
        "    respostas = np.empty(4)\n",
        "    for alternativa in range(QTD_ALTERNATIVAS-1):\n",
        "        inicio_alternativa = int(espacamento_anternativas*alternativa)\n",
        "        fim_alternativa = int(espacamento_anternativas*(alternativa+1))\n",
        "        respostas[alternativa] = np.mean(questao[:, inicio_alternativa:fim_alternativa])\n",
        "\n",
        "    indice = np.where(respostas == np.amin(respostas))[0][0]\n",
        "\n",
        "    return map_indice[indice]\n",
        "\n",
        "def corrige(imagem):\n",
        "    '''\n",
        "    Entrada: é a imagem já cordada\n",
        "    Saída: dicionário com cada questao como chave e sua respectiva resposta\n",
        "    '''\n",
        "\n",
        "    respostas = {}\n",
        "    for questao in range(1,QTD_QUESTOES):\n",
        "        respostas[questao] = get_resposta(imagem, questao)\n",
        "\n",
        "    return respostas"
      ],
      "execution_count": 0,
      "outputs": []
    },
    {
      "cell_type": "code",
      "metadata": {
        "id": "NEhKuNaIrlGC",
        "colab_type": "code",
        "colab": {}
      },
      "source": [
        "def cortar_imagem(imagem):\n",
        "\n",
        "    img_gray = cv2.cvtColor(imagem, cv2.COLOR_BGR2GRAY)\n",
        "\n",
        "    # Preprocessar imagem\n",
        "    thres, img_binarizada = cv2.threshold(img_gray, 0, 255, cv2.THRESH_BINARY+cv2.THRESH_OTSU)\n",
        "\n",
        "    canny = cv2.Canny(img_binarizada, 100,200)\n",
        "\n",
        "    kernel_cross = cv2.getStructuringElement(cv2.MORPH_CROSS, (5,5))\n",
        "    operacao_dilate = cv2.morphologyEx(canny, cv2.MORPH_DILATE, kernel_cross, iterations=1)\n",
        "\n",
        "    kernel_rect = cv2.getStructuringElement(cv2.MORPH_RECT, (5,5))\n",
        "    operacao_close = cv2.morphologyEx(operacao_dilate, cv2.MORPH_CLOSE, kernel_rect, iterations=3)\n",
        "\n",
        "    kernel_rect = cv2.getStructuringElement(cv2.MORPH_RECT, (5,5))\n",
        "    operacao_open = cv2.morphologyEx(operacao_close, cv2.MORPH_OPEN, kernel_rect, iterations=1)\n",
        "\n",
        "    #DETECTAR LINHAS\n",
        "    l_linhas = cv2.HoughLines(operacao_open,1,np.pi/180, 80)\n",
        "\n",
        "    limites_horizontais = np.array([[imagem.size,imagem.size],# [[img_size, img_size], MENOR (raio,theta)\n",
        "                            [0.0, 0.0]], dtype=np.float64)          #  [0., 0.]], MAIOR (raio,theta)\n",
        "\n",
        "    limites_verticais = np.array([[imagem.size,imagem.size],# [[img_size, img_size], MENOR (raio,theta)\n",
        "                                    [0.0, 0.0]], dtype=np.float64)        #  [0., 0.]], MAIOR (raio,theta)\n",
        "\n",
        "    for linha in l_linhas:\n",
        "        for raio,theta in linha:\n",
        "\n",
        "            # Descarta todas as linhas que não sejam horizontais ou verticais\n",
        "\n",
        "            if np.isclose(theta,0.0): #linhas verticais\n",
        "                if raio < limites_verticais[0][0]:\n",
        "                    limites_verticais[0][0] = raio\n",
        "                    limites_verticais[0][1] = theta\n",
        "\n",
        "                if raio>limites_verticais[1][0]:\n",
        "                    limites_verticais[1][0] = raio\n",
        "                    limites_verticais[1][1] = theta\n",
        "\n",
        "            elif np.isclose(theta,(np.pi/2.0)):# linhas horizontais\n",
        "\n",
        "                if raio < limites_horizontais[0][0]:\n",
        "                    limites_horizontais[0][0] = raio\n",
        "                    limites_horizontais[0][1] = theta\n",
        "\n",
        "                if raio>limites_horizontais[1][0]:\n",
        "                    limites_horizontais[1][0] = raio\n",
        "                    limites_horizontais[1][1] = theta\n",
        "\n",
        "    # Ponto superior esquerdo (se)\n",
        "    raio_se, theta_se = encontrar_intenseccao(limites_horizontais[0][0], limites_verticais[0][0])\n",
        "    x_se,y_se = hough_para_cartesiano(raio_se,theta_se)\n",
        "\n",
        "    # Ponto inferior direito (id)\n",
        "    raio_id, theta_id = encontrar_intenseccao(limites_horizontais[1][0], limites_verticais[1][0])\n",
        "    x_id,y_id = hough_para_cartesiano(raio_id,theta_id)\n",
        " \n",
        "    nova_imagem = img_binarizada[int(y_se):int(y_id), int(x_se):int(x_id)]\n",
        "\n",
        "    return nova_imagem"
      ],
      "execution_count": 0,
      "outputs": []
    },
    {
      "cell_type": "code",
      "metadata": {
        "id": "EoDwLj90wDcN",
        "colab_type": "code",
        "colab": {}
      },
      "source": [
        "def ler_csv(caminho_csv, nome_prova):\n",
        "    conteudo = np.loadtxt(caminho_csv, dtype=str, delimiter=',')\n",
        "    indice = np.where(conteudo[:,:1] == nome_prova)[0][0]\n",
        "\n",
        "    return conteudo[indice]"
      ],
      "execution_count": 0,
      "outputs": []
    },
    {
      "cell_type": "code",
      "metadata": {
        "id": "Kzyqa4Lav0jK",
        "colab_type": "code",
        "colab": {}
      },
      "source": [
        "nome_imagem = 'teste7.png'\n",
        "imagem = abrir_imagem(caminho_absoluto(nome_imagem))\n",
        "\n",
        "imagem_cortada = cortar_imagem(imagem)\n",
        "\n",
        "respostas = corrige(imagem_cortada)\n",
        "verdadeiras = ler_csv(caminho_absoluto('corretas.csv'), nome_imagem)\n",
        "\n",
        "print('Questão\\tletra\\tverdadeira')\n",
        "for questao in range(1,QTD_QUESTOES):\n",
        "    print(' {0} \\t {1} \\t {2}'.format(questao, respostas[questao],verdadeiras[questao]))"
      ],
      "execution_count": 0,
      "outputs": []
    }
  ]
}